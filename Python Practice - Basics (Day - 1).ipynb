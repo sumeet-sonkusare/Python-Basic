{
 "cells": [
  {
   "cell_type": "markdown",
   "id": "4af64a61",
   "metadata": {},
   "source": [
    "### 1. Write a Python program to print the following string in a specific format.\n",
    "Sample String : \"Twinkle, twinkle, little star, How I wonder what you are! Up above the world so high, Like a diamond in the sky. Twinkle, twinkle, little star, How I wonder what you are\" Output :\n",
    "\n",
    "Twinkle, twinkle, little star,<br>\n",
    "&nbsp;&nbsp;How I wonder what you are!<br>\n",
    "&ensp;&ensp;Up above the world so high,\t\n",
    "&ensp;&ensp;Like a diamond in the sky.<br>\n",
    "Twinkle, twinkle, little star,<br>\n",
    "&nbsp;&nbsp;How I wonder what you are"
   ]
  },
  {
   "cell_type": "code",
   "execution_count": 1,
   "id": "d7514bef",
   "metadata": {},
   "outputs": [
    {
     "name": "stdout",
     "output_type": "stream",
     "text": [
      "Twinkle, twinkle, little star,\n",
      "\tHow I wonder what you are!\n",
      "\t\tUp above the world so high,\n",
      "\t\tLike a diamond in the sky.\n",
      "Twinkle, twinkle, little star,\n",
      "\tHow I wonder what you are\n"
     ]
    }
   ],
   "source": [
    "print(\n",
    "'Twinkle, twinkle, little star,\\n\\t\\\n",
    "How I wonder what you are!\\n\\t\\t\\\n",
    "Up above the world so high,\\n\\t\\t\\\n",
    "Like a diamond in the sky.\\n\\\n",
    "Twinkle, twinkle, little star,\\n\\t\\\n",
    "How I wonder what you are')"
   ]
  },
  {
   "cell_type": "markdown",
   "id": "de986824",
   "metadata": {},
   "source": [
    "### 2. Write a Python program to get the Python version you are using."
   ]
  },
  {
   "cell_type": "code",
   "execution_count": 2,
   "id": "2963708f",
   "metadata": {},
   "outputs": [
    {
     "data": {
      "text/plain": [
       "'3.9.7 (default, Sep 16 2021, 16:59:28) [MSC v.1916 64 bit (AMD64)]'"
      ]
     },
     "execution_count": 2,
     "metadata": {},
     "output_type": "execute_result"
    }
   ],
   "source": [
    "import sys\n",
    "sys.version\n",
    "\n",
    "#Note : 'sys' module provides access to some variables used or maintained by the interpreter \n",
    "#and to functions that interact strongly with the interpreter."
   ]
  },
  {
   "cell_type": "markdown",
   "id": "5834f806",
   "metadata": {},
   "source": [
    "### 3. Write a Python program to display the current date and time.\n",
    "Sample Output :<br>\n",
    "Current date and time : <br>\n",
    "2014-07-05 14:34:14<br>"
   ]
  },
  {
   "cell_type": "code",
   "execution_count": 3,
   "id": "02be1481",
   "metadata": {},
   "outputs": [
    {
     "name": "stdout",
     "output_type": "stream",
     "text": [
      "Date and time :  2022-02-06 01:06:46.075595\n",
      "year :  2022\n",
      "Month :  2\n",
      "Day :  6\n"
     ]
    }
   ],
   "source": [
    "from datetime import datetime as dt\n",
    "from time import time\n",
    "print(\"Date and time : \",dt.now())\n",
    "print(\"year : \" ,dt.now().year)\n",
    "print(\"Month : \" ,dt.now().month)\n",
    "print(\"Day : \",dt.now().day)\n"
   ]
  },
  {
   "cell_type": "markdown",
   "id": "925fdf05",
   "metadata": {},
   "source": [
    "### 4. Write a Python program which accepts the radius of a circle from the user and compute the area."
   ]
  },
  {
   "cell_type": "code",
   "execution_count": 4,
   "id": "e9c37a55",
   "metadata": {},
   "outputs": [
    {
     "name": "stdout",
     "output_type": "stream",
     "text": [
      "Enter radius1.1\n"
     ]
    }
   ],
   "source": [
    "radius = float(input(\"Enter radius\"))\n"
   ]
  },
  {
   "cell_type": "code",
   "execution_count": 5,
   "id": "fe33a7f1",
   "metadata": {},
   "outputs": [
    {
     "data": {
      "text/plain": [
       "3.8013271108436504"
      ]
     },
     "execution_count": 5,
     "metadata": {},
     "output_type": "execute_result"
    }
   ],
   "source": [
    "import math\n",
    "Area = math.pi*(radius)**2\n",
    "Area"
   ]
  },
  {
   "cell_type": "markdown",
   "id": "789b1246",
   "metadata": {},
   "source": [
    "### 5. Write a Python program which accepts the user's first and last name and print them in reverse order with a space between them."
   ]
  },
  {
   "cell_type": "code",
   "execution_count": 6,
   "id": "0e42085a",
   "metadata": {},
   "outputs": [
    {
     "name": "stdout",
     "output_type": "stream",
     "text": [
      "Enter first name: Sumeet\n",
      "Enter Last name: Sonkusare\n"
     ]
    }
   ],
   "source": [
    "fn = input(\"Enter first name: \")\n",
    "ln = input(\"Enter Last name: \")"
   ]
  },
  {
   "cell_type": "code",
   "execution_count": 37,
   "id": "f4ff3005",
   "metadata": {},
   "outputs": [
    {
     "data": {
      "text/plain": [
       "'Sumeet Sonkusare'"
      ]
     },
     "execution_count": 37,
     "metadata": {},
     "output_type": "execute_result"
    }
   ],
   "source": [
    "reverse = fn+\" \"+ln\n",
    "reverse"
   ]
  },
  {
   "cell_type": "code",
   "execution_count": 39,
   "id": "78813e68",
   "metadata": {},
   "outputs": [
    {
     "data": {
      "text/plain": [
       "'Erasuknos Teemus'"
      ]
     },
     "execution_count": 39,
     "metadata": {},
     "output_type": "execute_result"
    }
   ],
   "source": [
    "reverse[::-1].title()"
   ]
  },
  {
   "cell_type": "code",
   "execution_count": 33,
   "id": "71bdf009",
   "metadata": {},
   "outputs": [
    {
     "data": {
      "text/plain": [
       "('erasuknoS', ' ', 'teemuS')"
      ]
     },
     "execution_count": 33,
     "metadata": {},
     "output_type": "execute_result"
    }
   ],
   "source": [
    "reverse_name_in_tuple = (ln[::-1],\" \",fn[::-1])\n",
    "reverse_name_in_tuple"
   ]
  },
  {
   "cell_type": "code",
   "execution_count": 28,
   "id": "5339c986",
   "metadata": {},
   "outputs": [],
   "source": [
    "reverse_in_string = \"\".join(reverse_name_in_tuple)   #join method"
   ]
  },
  {
   "cell_type": "code",
   "execution_count": 30,
   "id": "9035d9ba",
   "metadata": {},
   "outputs": [
    {
     "data": {
      "text/plain": [
       "'Erasuknos Teemus'"
      ]
     },
     "execution_count": 30,
     "metadata": {},
     "output_type": "execute_result"
    }
   ],
   "source": [
    "#To make it in proper case\n",
    "reverse_in_string.title()"
   ]
  },
  {
   "cell_type": "markdown",
   "id": "2c9eb1c6",
   "metadata": {},
   "source": [
    "### 6. Write a Python program which accepts a sequence of comma-separated numbers from user and generate a list and a tuple with those numbers."
   ]
  },
  {
   "cell_type": "code",
   "execution_count": 48,
   "id": "10296d87",
   "metadata": {},
   "outputs": [
    {
     "name": "stdout",
     "output_type": "stream",
     "text": [
      "enter 4 numbers with comma: 3,5,7,23\n"
     ]
    },
    {
     "data": {
      "text/plain": [
       "'3,5,7,23'"
      ]
     },
     "execution_count": 48,
     "metadata": {},
     "output_type": "execute_result"
    }
   ],
   "source": [
    "numbers_in_the_form_of_string = input(\"enter 4 numbers with comma: \")\n",
    "numbers_in_the_form_of_string"
   ]
  },
  {
   "cell_type": "code",
   "execution_count": 49,
   "id": "ca4c66b6",
   "metadata": {},
   "outputs": [
    {
     "data": {
      "text/plain": [
       "['3', '5', '7', '23']"
      ]
     },
     "execution_count": 49,
     "metadata": {},
     "output_type": "execute_result"
    }
   ],
   "source": [
    "numbers_in_list = numbers_in_the_form_of_string.split(\",\")   #string method to seperate items by delimiter\n",
    "numbers_in_list"
   ]
  },
  {
   "cell_type": "code",
   "execution_count": 50,
   "id": "449fd34c",
   "metadata": {},
   "outputs": [
    {
     "data": {
      "text/plain": [
       "('3', '5', '7', '23')"
      ]
     },
     "execution_count": 50,
     "metadata": {},
     "output_type": "execute_result"
    }
   ],
   "source": [
    "numbers_in_tuple = tuple(numbers_in_list)\n",
    "numbers_in_tuple"
   ]
  },
  {
   "cell_type": "markdown",
   "id": "08086144",
   "metadata": {},
   "source": [
    "### 7. Write a Python program to accept a filename from the user and print the extension of that."
   ]
  },
  {
   "cell_type": "code",
   "execution_count": 51,
   "id": "f17334bb",
   "metadata": {},
   "outputs": [
    {
     "name": "stdout",
     "output_type": "stream",
     "text": [
      "Enter file namepractice.py\n"
     ]
    },
    {
     "data": {
      "text/plain": [
       "'practice.py'"
      ]
     },
     "execution_count": 51,
     "metadata": {},
     "output_type": "execute_result"
    }
   ],
   "source": [
    "file_name = input(\"Enter file name\")\n",
    "file_name"
   ]
  },
  {
   "cell_type": "code",
   "execution_count": 55,
   "id": "1a750595",
   "metadata": {},
   "outputs": [
    {
     "data": {
      "text/plain": [
       "'py'"
      ]
     },
     "execution_count": 55,
     "metadata": {},
     "output_type": "execute_result"
    }
   ],
   "source": [
    "file_name.split(\".\")[1]    #seperate by delimiter (,) and convert the string into list. Later by index selected 1st index."
   ]
  },
  {
   "cell_type": "markdown",
   "id": "e31f5b37",
   "metadata": {},
   "source": [
    "### 8. Write a Python program to display the first and last colors from the following list. \n",
    "### color_list = [\"Red\",\"Green\",\"White\" ,\"Black\"]"
   ]
  },
  {
   "cell_type": "code",
   "execution_count": 61,
   "id": "67e59730",
   "metadata": {},
   "outputs": [
    {
     "name": "stdout",
     "output_type": "stream",
     "text": [
      "Red   Black\n"
     ]
    }
   ],
   "source": [
    "color_list = [\"Red\",\"Green\",\"White\" ,\"Black\"]\n",
    "print(color_list[0],\" \", color_list[-1])"
   ]
  },
  {
   "cell_type": "markdown",
   "id": "656a0bad",
   "metadata": {},
   "source": [
    "### 9. Write a Python program to display the examination schedule. (exam_st_date = (11, 12, 2014))."
   ]
  },
  {
   "cell_type": "code",
   "execution_count": 63,
   "id": "86d9f3df",
   "metadata": {},
   "outputs": [
    {
     "data": {
      "text/plain": [
       "'exam is on 11/12/2014'"
      ]
     },
     "execution_count": 63,
     "metadata": {},
     "output_type": "execute_result"
    }
   ],
   "source": [
    "exam_schedule = \"exam is on %i/%i/%i\"%(11,12,2014)\n",
    "exam_schedule"
   ]
  },
  {
   "cell_type": "markdown",
   "id": "ad5b1a61",
   "metadata": {},
   "source": [
    "### 10. Write a Python program that accepts an integer (n) and computes the value of n+nn+nnn. sample number is 5"
   ]
  },
  {
   "cell_type": "code",
   "execution_count": 66,
   "id": "11c4d756",
   "metadata": {},
   "outputs": [
    {
     "name": "stdout",
     "output_type": "stream",
     "text": [
      "5\n",
      "25\n",
      "125\n"
     ]
    }
   ],
   "source": [
    "for i in range(1,4):\n",
    "    print(5**i)"
   ]
  },
  {
   "cell_type": "code",
   "execution_count": 68,
   "id": "484f0d61",
   "metadata": {},
   "outputs": [
    {
     "data": {
      "text/plain": [
       "[5, 25, 125]"
      ]
     },
     "execution_count": 68,
     "metadata": {},
     "output_type": "execute_result"
    }
   ],
   "source": [
    "#Using List comprehension\n",
    "samp_num = [5**i for i in range(1,4)]\n",
    "samp_num"
   ]
  },
  {
   "cell_type": "markdown",
   "id": "70040800",
   "metadata": {},
   "source": [
    "### 11. Write a Python program to print the calendar of a given month and year. Note : Use 'calendar' module."
   ]
  },
  {
   "cell_type": "code",
   "execution_count": 79,
   "id": "ddcf4b7b",
   "metadata": {},
   "outputs": [
    {
     "name": "stdout",
     "output_type": "stream",
     "text": [
      "   February 2022\n",
      "Mo Tu We Th Fr Sa Su\n",
      "    1  2  3  4  5  6\n",
      " 7  8  9 10 11 12 13\n",
      "14 15 16 17 18 19 20\n",
      "21 22 23 24 25 26 27\n",
      "28\n",
      "\n"
     ]
    }
   ],
   "source": [
    "import calendar\n",
    "yy = 2022\n",
    "mm = 2\n",
    "print(calendar.month(yy,mm))"
   ]
  },
  {
   "cell_type": "markdown",
   "id": "99ae3f95",
   "metadata": {},
   "source": [
    "### 12. Write a Python program to calculate number of days between two dates.\n",
    "#### Sample dates : (2014, 7, 2), (2014, 7, 11)\n",
    "#### Expected output : 9 days"
   ]
  },
  {
   "cell_type": "code",
   "execution_count": 85,
   "id": "cdcf7c3f",
   "metadata": {},
   "outputs": [
    {
     "data": {
      "text/plain": [
       "9"
      ]
     },
     "execution_count": 85,
     "metadata": {},
     "output_type": "execute_result"
    }
   ],
   "source": [
    "import datetime\n",
    "d1 = datetime.date(2014,7,2)\n",
    "d2 = datetime.date(2014,7,11)\n",
    "delta = d2-d1\n",
    "delta.days"
   ]
  },
  {
   "cell_type": "markdown",
   "id": "a06fe26b",
   "metadata": {},
   "source": [
    "### 13. Write a Python program to get the volume of a sphere with radius 6."
   ]
  },
  {
   "cell_type": "code",
   "execution_count": 87,
   "id": "cfb0cf8e",
   "metadata": {},
   "outputs": [
    {
     "data": {
      "text/plain": [
       "904.7786842338604"
      ]
     },
     "execution_count": 87,
     "metadata": {},
     "output_type": "execute_result"
    }
   ],
   "source": [
    "r = 6\n",
    "s_formula = (4*math.pi*r**3)/3\n",
    "s_formula"
   ]
  },
  {
   "cell_type": "markdown",
   "id": "fc370ee9",
   "metadata": {},
   "source": [
    "### 14. Write a Python program to get the difference between a given number and 17, if the number is greater than 17 return double the absolute difference."
   ]
  },
  {
   "cell_type": "code",
   "execution_count": 93,
   "id": "12773031",
   "metadata": {},
   "outputs": [
    {
     "data": {
      "text/plain": [
       "[18, 17, 11, 15, 14, 18, 11, 12, 11, 13]"
      ]
     },
     "execution_count": 93,
     "metadata": {},
     "output_type": "execute_result"
    }
   ],
   "source": [
    "from random import randint\n",
    "\n",
    "num = [randint(11,20) for i in range(10)]\n",
    "num"
   ]
  },
  {
   "cell_type": "code",
   "execution_count": 99,
   "id": "4425dac8",
   "metadata": {},
   "outputs": [
    {
     "name": "stdout",
     "output_type": "stream",
     "text": [
      "18  ---->  36 Greater than 17\n",
      "17  ----> Not greater than 17\n",
      "11  ----> Not greater than 17\n",
      "15  ----> Not greater than 17\n",
      "14  ----> Not greater than 17\n",
      "18  ---->  36 Greater than 17\n",
      "11  ----> Not greater than 17\n",
      "12  ----> Not greater than 17\n",
      "11  ----> Not greater than 17\n",
      "13  ----> Not greater than 17\n"
     ]
    }
   ],
   "source": [
    "for i in num:\n",
    "    if i>17:\n",
    "        print(i,\" ----> \", i*2, \"Greater than 17\")\n",
    "    else:\n",
    "        print(i,\" ----> Not greater than 17\")"
   ]
  },
  {
   "cell_type": "markdown",
   "id": "f74a83aa",
   "metadata": {},
   "source": [
    "### 15. Write a Python program to calculate the sum of three given numbers, if the values are equal then return three times of their sum. "
   ]
  },
  {
   "cell_type": "code",
   "execution_count": 130,
   "id": "68ba3353",
   "metadata": {},
   "outputs": [
    {
     "name": "stdout",
     "output_type": "stream",
     "text": [
      "18\n",
      "90\n",
      "18\n"
     ]
    }
   ],
   "source": [
    "def sum_of_three(a,b,c):\n",
    "    if a==b==c:\n",
    "       return (a+b+c)*3\n",
    "    else:\n",
    "       return (a+b+c)\n",
    "\n",
    "print(sum_of_three(4,6,8))\n",
    "print(sum_of_three(10,10,10))\n",
    "print(sum_of_three(4,6,8))"
   ]
  },
  {
   "cell_type": "markdown",
   "id": "e81276f4",
   "metadata": {},
   "source": [
    "### 16. Write a Python program to get a new string from a given string where \"Is\" has been added to the front. If the given string already begins with \"Is\" then return the string unchanged."
   ]
  },
  {
   "cell_type": "code",
   "execution_count": 142,
   "id": "2166cea0",
   "metadata": {},
   "outputs": [
    {
     "name": "stdout",
     "output_type": "stream",
     "text": [
      "Enter three strings: beast\n",
      "Enter three strings: israel\n",
      "Enter three strings: islow\n"
     ]
    },
    {
     "data": {
      "text/plain": [
       "['beast', 'israel', 'islow']"
      ]
     },
     "execution_count": 142,
     "metadata": {},
     "output_type": "execute_result"
    }
   ],
   "source": [
    "add_three_string = [input(\"Enter three strings: \") for i in range(3)]\n",
    "add_three_string"
   ]
  },
  {
   "cell_type": "code",
   "execution_count": 144,
   "id": "ee2928e8",
   "metadata": {},
   "outputs": [
    {
     "data": {
      "text/plain": [
       "['isbeast', 'israel', 'islow']"
      ]
     },
     "execution_count": 144,
     "metadata": {},
     "output_type": "execute_result"
    }
   ],
   "source": [
    "for i in range(len(add_three_string)):\n",
    "    if add_three_string[i][0:2]==\"is\":\n",
    "        continue\n",
    "    else:\n",
    "        add_three_string[i] = \"is\" + add_three_string[i]\n",
    "\n",
    "add_three_string"
   ]
  },
  {
   "cell_type": "markdown",
   "id": "329ea9be",
   "metadata": {},
   "source": [
    "### 17. Write a Python program to get a string which is n (non-negative integer) copies of a given string."
   ]
  },
  {
   "cell_type": "code",
   "execution_count": 147,
   "id": "5e94b34f",
   "metadata": {},
   "outputs": [
    {
     "data": {
      "text/plain": [
       "'boyboyboyboyboy'"
      ]
     },
     "execution_count": 147,
     "metadata": {},
     "output_type": "execute_result"
    }
   ],
   "source": [
    "def string_num(s,n):\n",
    "    return s*n\n",
    "string_num(\"boy\", 5)"
   ]
  }
 ],
 "metadata": {
  "kernelspec": {
   "display_name": "Python 3 (ipykernel)",
   "language": "python",
   "name": "python3"
  },
  "language_info": {
   "codemirror_mode": {
    "name": "ipython",
    "version": 3
   },
   "file_extension": ".py",
   "mimetype": "text/x-python",
   "name": "python",
   "nbconvert_exporter": "python",
   "pygments_lexer": "ipython3",
   "version": "3.9.7"
  }
 },
 "nbformat": 4,
 "nbformat_minor": 5
}
