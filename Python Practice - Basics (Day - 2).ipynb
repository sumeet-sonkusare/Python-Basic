{
 "cells": [
  {
   "cell_type": "markdown",
   "id": "cf38d475",
   "metadata": {},
   "source": [
    "### 1. Write a Python program to find whether a given number (accept from the user) is even or odd, print out an appropriate message to the user."
   ]
  },
  {
   "cell_type": "code",
   "execution_count": 1,
   "id": "052912e2",
   "metadata": {},
   "outputs": [
    {
     "name": "stdout",
     "output_type": "stream",
     "text": [
      "Enter number to find odd or even: 1\n",
      "Odd\n",
      "Enter number to find odd or even: 2\n",
      "Even\n",
      "Enter number to find odd or even: 3\n",
      "Odd\n",
      "Enter number to find odd or even: 4\n",
      "Even\n"
     ]
    }
   ],
   "source": [
    "def odd_or_even(mod):\n",
    "    if n%2 == 0:\n",
    "        return \"Even\"\n",
    "    else:\n",
    "        return \"Odd\"\n",
    "\n",
    "for i in range(4):\n",
    "    n = int(input(\"Enter number to find odd or even: \"))\n",
    "    oe = odd_or_even(n)\n",
    "    print(oe)"
   ]
  },
  {
   "cell_type": "markdown",
   "id": "a664576d",
   "metadata": {},
   "source": [
    "### 2. Write a Python program to count the number 4 in a given list."
   ]
  },
  {
   "cell_type": "code",
   "execution_count": 2,
   "id": "f1596a3d",
   "metadata": {},
   "outputs": [
    {
     "data": {
      "text/plain": [
       "[6, 2, 3, 7, 2, 6, 2, 5, 2, 7]"
      ]
     },
     "execution_count": 2,
     "metadata": {},
     "output_type": "execute_result"
    }
   ],
   "source": [
    "import random\n",
    "lst = [random.randint(2,7) for i in range(10)]\n",
    "lst"
   ]
  },
  {
   "cell_type": "code",
   "execution_count": 3,
   "id": "a78f49de",
   "metadata": {},
   "outputs": [
    {
     "data": {
      "text/plain": [
       "0"
      ]
     },
     "execution_count": 3,
     "metadata": {},
     "output_type": "execute_result"
    }
   ],
   "source": [
    "count_four = 0\n",
    "for i in lst:\n",
    "    if i==4:\n",
    "        count_four += 1\n",
    "count_four"
   ]
  },
  {
   "cell_type": "markdown",
   "id": "106c438b",
   "metadata": {},
   "source": [
    "### 3. Write a Python program to get the n (non-negative integer) copies of the first 2 characters of a given string. Return the n copies of the whole string if the length is less than 2."
   ]
  },
  {
   "cell_type": "code",
   "execution_count": 4,
   "id": "98618bb6",
   "metadata": {},
   "outputs": [
    {
     "name": "stdout",
     "output_type": "stream",
     "text": [
      "Enter charsonu\n",
      "Enter number5\n",
      "sososososo\n",
      "Enter chari\n",
      "Enter number2\n",
      "ii\n"
     ]
    }
   ],
   "source": [
    "def char_copies(n,c):\n",
    "    if len(c)<2:\n",
    "        return c*n\n",
    "    if len(c)>=2:\n",
    "        return c[0:2]*n\n",
    "\n",
    "for i in range(2):\n",
    "    chara = input(\"Enter char\")\n",
    "    num = int(input(\"Enter number\"))\n",
    "    a = char_copies(num, chara)\n",
    "    print(a)"
   ]
  },
  {
   "cell_type": "markdown",
   "id": "79521dd7",
   "metadata": {},
   "source": [
    "### 4. Write a Python program to test whether a passed letter is a vowel or not."
   ]
  },
  {
   "cell_type": "code",
   "execution_count": null,
   "id": "71c23b17",
   "metadata": {},
   "outputs": [],
   "source": [
    "def vowel(c):\n",
    "    if c in 'a,e,i,o,u':\n",
    "        return \"It is a vowel\"\n",
    "    else:\n",
    "        return \"It is consonent\"\n",
    "for i in range(2):\n",
    "    ch = input(\"Enter char\")\n",
    "    a = vowel(ch)\n",
    "    print(a)"
   ]
  },
  {
   "cell_type": "markdown",
   "id": "92fd51d8",
   "metadata": {},
   "source": [
    "### 5. Write a Python program to check whether a specified value is contained in a group of values."
   ]
  },
  {
   "cell_type": "code",
   "execution_count": 14,
   "id": "a49ccfce",
   "metadata": {},
   "outputs": [
    {
     "name": "stdout",
     "output_type": "stream",
     "text": [
      "Enter number7\n",
      "7 is not present\n",
      "Enter number9\n",
      "9 is not present\n"
     ]
    }
   ],
   "source": [
    "l = [1,5,8,3]\n",
    "def chk(n):\n",
    "    if n in l:\n",
    "        return \"{} is present\".format(n)\n",
    "    else:\n",
    "        return \"{} is not present\".format(n)\n",
    "for i in range(2):\n",
    "    print(chk(int(input(\"Enter number\"))))\n",
    "    "
   ]
  },
  {
   "cell_type": "markdown",
   "id": "b0027012",
   "metadata": {},
   "source": [
    "### 6. Write a Python program to create a histogram from a given list of integers."
   ]
  },
  {
   "cell_type": "code",
   "execution_count": 23,
   "id": "0d102fc6",
   "metadata": {},
   "outputs": [
    {
     "data": {
      "text/plain": [
       "[7, 3, 4, 6, 8]"
      ]
     },
     "execution_count": 23,
     "metadata": {},
     "output_type": "execute_result"
    }
   ],
   "source": [
    "lis = [random.randint(1,9) for i in range (5)]\n",
    "lis"
   ]
  },
  {
   "cell_type": "code",
   "execution_count": 25,
   "id": "ea08953d",
   "metadata": {},
   "outputs": [
    {
     "name": "stdout",
     "output_type": "stream",
     "text": [
      "*******\n",
      "***\n",
      "****\n",
      "******\n",
      "********\n"
     ]
    }
   ],
   "source": [
    "for i in lis:\n",
    "    for j in range(i):\n",
    "        print('*', end='')\n",
    "    print('')"
   ]
  },
  {
   "cell_type": "markdown",
   "id": "bc32e033",
   "metadata": {},
   "source": [
    "### 7. Write a Python program to concatenate all elements in a list into a string and return it."
   ]
  },
  {
   "cell_type": "code",
   "execution_count": 28,
   "id": "bf3d8e4a",
   "metadata": {},
   "outputs": [
    {
     "data": {
      "text/plain": [
       "'apple340.54False'"
      ]
     },
     "execution_count": 28,
     "metadata": {},
     "output_type": "execute_result"
    }
   ],
   "source": [
    "l = ['apple', 34, 0.54, False]\n",
    "c = ''\n",
    "for i in l:\n",
    "    c += str(i)\n",
    "c"
   ]
  },
  {
   "cell_type": "markdown",
   "id": "846d641f",
   "metadata": {},
   "source": [
    "### 8. Write a Python program to print all even numbers from a given numbers list in the same order and stop the printing if any numbers that come after 237 in the sequence. Go to the editor\n",
    "Sample numbers list :\n",
    "\n",
    "numbers = [    \n",
    "    386, 462, 47, 418, 907, 344, 236, 375, 823, 566, 597, 978, 328, 615, 953, 345, \n",
    "    399, 162, 758, 219, 918, 237, 412, 566, 826, 248, 866, 950, 626, 949, 687, 217, \n",
    "    815, 67, 104, 58, 512, 24, 892, 894, 767, 553, 81, 379, 843, 831, 445, 742, 717, \n",
    "    958,743, 527\n",
    "    ]"
   ]
  },
  {
   "cell_type": "code",
   "execution_count": 41,
   "id": "ad9e1061",
   "metadata": {},
   "outputs": [
    {
     "data": {
      "text/plain": [
       "[386, 462, 418, 344, 236, 566, 978, 328, 162, 758, 918, 237]"
      ]
     },
     "execution_count": 41,
     "metadata": {},
     "output_type": "execute_result"
    }
   ],
   "source": [
    "numbers = [386, 462, 47, 418, 907, 344, 236, 375, 823, 566, 597, 978, 328, 615, 953, 345, 399, 162, 758, 219, 918, 237, 412, 566, 826, 248, 866, 950, 626, 949, 687, 217, 815, 67, 104, 58, 512, 24, 892, 894, 767, 553, 81, 379, 843, 831, 445, 742, 717, 958,743, 527]\n",
    "new_num = []\n",
    "for i in numbers:\n",
    "    if i!=237 and i%2==0:\n",
    "        new_num.append(i)\n",
    "    elif i==237:\n",
    "        new_num.append(i)\n",
    "        break\n",
    "        \n",
    "new_num"
   ]
  },
  {
   "cell_type": "code",
   "execution_count": 42,
   "id": "2caa13c0",
   "metadata": {},
   "outputs": [
    {
     "name": "stdout",
     "output_type": "stream",
     "text": [
      "386\n",
      "462\n",
      "418\n",
      "344\n",
      "236\n",
      "566\n",
      "978\n",
      "328\n",
      "162\n",
      "758\n",
      "918\n",
      "237\n"
     ]
    }
   ],
   "source": [
    "for i in numbers:\n",
    "    if i==237:\n",
    "        print(i)\n",
    "        break\n",
    "    elif i%2==0:\n",
    "        print(i)"
   ]
  }
 ],
 "metadata": {
  "kernelspec": {
   "display_name": "Python 3 (ipykernel)",
   "language": "python",
   "name": "python3"
  },
  "language_info": {
   "codemirror_mode": {
    "name": "ipython",
    "version": 3
   },
   "file_extension": ".py",
   "mimetype": "text/x-python",
   "name": "python",
   "nbconvert_exporter": "python",
   "pygments_lexer": "ipython3",
   "version": "3.9.7"
  }
 },
 "nbformat": 4,
 "nbformat_minor": 5
}
